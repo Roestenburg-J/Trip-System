{
  "cells": [
    {
      "cell_type": "markdown",
      "metadata": {
        "id": "mRWmKkXYD-tS"
      },
      "source": [
        "# Data Generation for Trip System "
      ]
    },
    {
      "cell_type": "code",
      "execution_count": 11,
      "metadata": {
        "id": "rez3z3DXNtvu"
      },
      "outputs": [],
      "source": [
        "B_to_GB = 1024*1024*1024  # size of 1GB\n",
        "# target_size = B_to_GB * 50 # Target size in GB , \n",
        "target_size = B_to_GB # Target size in GB , "
      ]
    },
    {
      "cell_type": "code",
      "source": [
        "output_file = '/content/data/output.json'"
      ],
      "metadata": {
        "id": "oSh6wxjt3R3j"
      },
      "execution_count": null,
      "outputs": []
    },
    {
      "cell_type": "markdown",
      "metadata": {
        "id": "Jtk63NsvNtvx"
      },
      "source": [
        "## Standard Route Generation"
      ]
    },
    {
      "cell_type": "code",
      "execution_count": 12,
      "metadata": {
        "id": "uD_14PZlD-tW"
      },
      "outputs": [],
      "source": [
        "import random\n",
        "import json\n",
        "import os.path\n",
        "import networkx as nx\n",
        "import numpy as np"
      ]
    },
    {
      "cell_type": "code",
      "execution_count": 13,
      "metadata": {
        "id": "r9Ty643nD-tY"
      },
      "outputs": [],
      "source": [
        "number_of_standard_trips = 10 # Total number of trips to be generated\n",
        "\n",
        "variable_trip_size = False #Set to false to make all full trips to be equal length\n",
        "variable_item_size = True #Set to false to make each individual trip to carry the same number of individual items\n",
        "\n",
        "ave_degree = 10\n",
        "\n",
        "if variable_item_size :\n",
        "    min_num_items_per_trip = 2 \n",
        "    max_num_items_per_trip = 10\n",
        "else:\n",
        "    num_items_per_trip = 10 #set if variable_item_size is set to False\n",
        "\n",
        "\n",
        "\n",
        "if variable_trip_size :\n",
        "    min_num_cities_per_standard_trip = 2 \n",
        "    max_num_cities_per_standard_trip = 10\n",
        "else:\n",
        "    num_cities_per_standard_trip = 10 #set if variable_trip_size is set to False"
      ]
    },
    {
      "cell_type": "code",
      "execution_count": 14,
      "metadata": {
        "id": "57iwE5-ND-ta"
      },
      "outputs": [],
      "source": [
        "cities = []\n",
        "items = []\n",
        "\n",
        "with open(\"/content/data/cities.txt\", \"r\") as file:\n",
        "    cities = file.read().splitlines()\n",
        "\n",
        "with open(\"/content/data/foods.txt\", \"r\") as file:\n",
        "    items = file.read().splitlines()\n"
      ]
    },
    {
      "cell_type": "code",
      "execution_count": 15,
      "metadata": {
        "id": "E_r3b9zsD-tc"
      },
      "outputs": [],
      "source": [
        "with open(\"/content/data/matrix.txt\", \"r\") as file:\n",
        "  # matrix = np.loadtxt(file)\n",
        "  # A = matrix[:, :len(cities)]\n",
        "  A = np.loadtxt(file, usecols=range(len(cities)))\n",
        "\n",
        "\n",
        "\n",
        "# print(A)\n",
        "G = nx.from_numpy_array(np.array(A)) \n",
        "mapping = {i:cities[i] for i in range(len(cities))}\n",
        "G = nx.relabel_nodes(G, mapping)"
      ]
    },
    {
      "cell_type": "code",
      "execution_count": 16,
      "metadata": {
        "id": "FSB9jf_UD-te"
      },
      "outputs": [],
      "source": [
        "def Generate_Random_Standard_Trip(length ):\n",
        "    trip = []\n",
        "    trip.append( cities[random.randint(0,len(cities)-1)])\n",
        "    while len(trip) <= length:\n",
        "        neighbours = list(nx.neighbors(G, trip[len(trip)-1]))\n",
        "        random.shuffle(neighbours)\n",
        "        found = False\n",
        "        for neigh in neighbours:\n",
        "            if not neigh in trip:\n",
        "                trip.append(neigh)\n",
        "                found = True\n",
        "                break\n",
        "\n",
        "        if not found:               # If length size not satisfied, then remove last city and try again\n",
        "            trip.pop()\n",
        "\n",
        "    return trip\n"
      ]
    },
    {
      "cell_type": "code",
      "execution_count": 17,
      "metadata": {
        "id": "3PS3SoRED-tg"
      },
      "outputs": [],
      "source": [
        "def Generate_All_Standard_Trips(length):\n",
        "    all_standard_routes = []\n",
        "    for i in range(length):\n",
        "        if variable_trip_size:\n",
        "            num = random.randint(min_num_cities_per_standard_trip, max_num_cities_per_standard_trip)\n",
        "            all_standard_routes.append(Generate_Random_Standard_Trip(num))\n",
        "        else:\n",
        "            all_standard_routes.append(Generate_Random_Standard_Trip(num_cities_per_standard_trip))\n",
        "            \n",
        "\n",
        "    return all_standard_routes"
      ]
    },
    {
      "cell_type": "code",
      "execution_count": 18,
      "metadata": {
        "id": "w_gjzfy3D-ti"
      },
      "outputs": [],
      "source": [
        "def Convert_Routes_TO_JSON(all_standard_routes):\n",
        "    json_list = []\n",
        "    for i in range(len(all_standard_routes)):\n",
        "        city_to_city = []\n",
        "        for j in range(len(all_standard_routes[i])-1):\n",
        "            permutation = random.sample(range(0, len(items)), random.randint(min_num_items_per_trip if variable_item_size else num_items_per_trip ,max_num_items_per_trip if variable_item_size else num_items_per_trip))\n",
        "            food_list = {items[k]:random.randint(1,20) for k in permutation }\n",
        "            city_to_city.append({'from' : all_standard_routes[i][j], 'to' :all_standard_routes[i][j+1], 'merchandise' : food_list})\n",
        "        \n",
        "        json_list.append({'id': i , 'route': city_to_city})\n",
        "\n",
        "    return(json.dumps(json_list, indent=3,sort_keys=False))\n"
      ]
    },
    {
      "cell_type": "code",
      "execution_count": 19,
      "metadata": {
        "colab": {
          "base_uri": "https://localhost:8080/"
        },
        "id": "S2iaMmLKD-tm",
        "outputId": "447b5a14-ad58-4680-92ce-e22d07012e18"
      },
      "outputs": [
        {
          "output_type": "stream",
          "name": "stdout",
          "text": [
            "JSON data saved to /content/data/data.json\n"
          ]
        }
      ],
      "source": [
        "json_data = Convert_Routes_TO_JSON(Generate_All_Standard_Trips(number_of_standard_trips))\n",
        "\n",
        "\n",
        "output_file = '/content/data/data.json'\n",
        "with open(output_file, 'w') as file:\n",
        "    file.write(json_data)\n",
        "\n",
        "print(f\"JSON data saved to {output_file}\")"
      ]
    },
    {
      "cell_type": "markdown",
      "metadata": {
        "id": "fRw9Yug1JhxK"
      },
      "source": [
        "## Acutal Route Generation"
      ]
    },
    {
      "cell_type": "code",
      "execution_count": 20,
      "metadata": {
        "id": "ul-IwBgtJrdN"
      },
      "outputs": [],
      "source": [
        "merch_edit_amount = 10 # range of how much we can edit the quantity of each item"
      ]
    },
    {
      "cell_type": "code",
      "execution_count": 21,
      "metadata": {
        "id": "dgSHycZeNtv_"
      },
      "outputs": [],
      "source": [
        "IDs = []\n",
        "Routes = []\n",
        "Merchs = []\n",
        "\n",
        "# with open(os.path.dirname(__file__) +'/../data/foods.txt') as file:\n",
        "#     items = [line.strip() for line in file]\n",
        "\n",
        "# with open(os.path.dirname(__file__) + '/../data/cities.txt') as file:\n",
        "#     cities = [line.strip() for line in file]\n",
        "\n",
        "with open('/content/data/data.json', 'r') as openfile:\n",
        "    json_object = json.load(openfile)"
      ]
    },
    {
      "cell_type": "code",
      "execution_count": 22,
      "metadata": {
        "id": "JbtkHlMPNtwA"
      },
      "outputs": [],
      "source": [
        "def Split_JSON_Obj(json_object):\n",
        "    for line in json_object:\n",
        "        IDs.append(line['id'])\n",
        "        route_obj = line['route']\n",
        "        full_route = [route_obj[0]['from']]\n",
        "        full_merch = []\n",
        "        for r in route_obj:\n",
        "            full_route.append(r['to'])\n",
        "            full_merch.append(r['merchandise'])\n",
        "        Routes.append(full_route)\n",
        "        Merchs.append(full_merch)"
      ]
    },
    {
      "cell_type": "code",
      "execution_count": 23,
      "metadata": {
        "id": "0Nnnr7zINtwA"
      },
      "outputs": [],
      "source": [
        "def create_neighbour_list(neighbour_list, A):\n",
        "    for i in range(len(A)):\n",
        "        temp = []\n",
        "        for j in range(len(A)):\n",
        "            if A[i][j] == 1:\n",
        "                temp.append(j)\n",
        "        \n",
        "        neighbour_list.append(temp)"
      ]
    },
    {
      "cell_type": "code",
      "execution_count": 24,
      "metadata": {
        "id": "dshOpJ6KNtwB"
      },
      "outputs": [],
      "source": [
        "def conv_city_names(Routes):\n",
        "    for i in range(len(Routes)):\n",
        "        for j in range(len(Routes[i])):\n",
        "            Routes[i][j] = cities.index(Routes[i][j])"
      ]
    },
    {
      "cell_type": "code",
      "execution_count": 25,
      "metadata": {
        "id": "RTq4OPvZNtwB"
      },
      "outputs": [],
      "source": [
        "Split_JSON_Obj(json_object)\n",
        "# A = np.loadtxt(os.path.dirname(__file__) + '/../data/matrix.txt', usecols=range(len(cities)))\n",
        "\n",
        "neighbour_list = []\n",
        "create_neighbour_list(neighbour_list, A)\n",
        "conv_city_names(Routes)"
      ]
    },
    {
      "cell_type": "code",
      "execution_count": 26,
      "metadata": {
        "id": "T9BUm9WLNtwC"
      },
      "outputs": [],
      "source": [
        "def binary_search(arr, x):\n",
        "    low = 0\n",
        "    high = len(arr) - 1\n",
        "    mid = 0\n",
        " \n",
        "    while low <= high:\n",
        "        mid = (high + low) // 2\n",
        " \n",
        "        if arr[mid] < x:\n",
        "            low = mid + 1\n",
        "        elif arr[mid] > x:\n",
        "            high = mid - 1\n",
        "        else:\n",
        "            return mid\n",
        "    # If we reach here, then the element was not present\n",
        "    return -1"
      ]
    },
    {
      "cell_type": "code",
      "execution_count": 27,
      "metadata": {
        "id": "mL6RQwE-NtwC"
      },
      "outputs": [],
      "source": [
        "def find_common_neigh(a,b,neighbour_list):\n",
        "    lists = []\n",
        "    if len(neighbour_list[a]) > len(neighbour_list[b]):\n",
        "        smaller_list = neighbour_list[b]\n",
        "        bigger_list = neighbour_list[a]\n",
        "    else:\n",
        "        smaller_list = neighbour_list[a]\n",
        "        bigger_list = neighbour_list[b]\n",
        "\n",
        "    for i in smaller_list:\n",
        "        ind = binary_search(bigger_list , i)\n",
        "        if ind != -1:\n",
        "            lists.append(i)\n",
        "    \n",
        "    return lists"
      ]
    },
    {
      "cell_type": "code",
      "execution_count": 28,
      "metadata": {
        "id": "mVHxYmPuNtwC"
      },
      "outputs": [],
      "source": [
        "def add_random_route_to_end(route , merch): \n",
        "    permutation = random.sample(range(0, len(neighbour_list[route[len(route)-1]])) , len(neighbour_list[route[len(route)-1]]))\n",
        "    for i in permutation:                                                         # does not add city already in the route\n",
        "        city = neighbour_list[route[0]][i]\n",
        "        if not city in route:\n",
        "            route.insert(0,city)\n",
        "            break\n",
        "\n",
        "    permutation = random.sample(range(0, len(items)), random.randint(min_num_items_per_trip if variable_item_size else num_items_per_trip ,max_num_items_per_trip if variable_item_size else num_items_per_trip))\n",
        "    merch.append({items[k]:random.randint(1,20) for k in permutation})\n",
        "    "
      ]
    },
    {
      "cell_type": "code",
      "execution_count": 29,
      "metadata": {
        "id": "90yzIjMpNtwD"
      },
      "outputs": [],
      "source": [
        "def add_random_route_to_front(route , merch):\n",
        "    permutation = random.sample(range(0, len(neighbour_list[route[0]])) , len(neighbour_list[route[0]]))\n",
        "    for i in permutation:                                                         # does not add city already in the route\n",
        "        city = neighbour_list[route[0]][i]\n",
        "        if not city in route:\n",
        "            route.insert(0,city)\n",
        "            break\n",
        "\n",
        "    permutation = random.sample(range(0, len(items)), random.randint(min_num_items_per_trip if variable_item_size else num_items_per_trip ,max_num_items_per_trip if variable_item_size else num_items_per_trip))\n",
        "    merch.insert(0,{items[k]:random.randint(1,20) for k in permutation})"
      ]
    },
    {
      "cell_type": "code",
      "execution_count": 30,
      "metadata": {
        "id": "P7SkUZZENtwD"
      },
      "outputs": [],
      "source": [
        "def edit_random_items(merch,edit_num):\n",
        "    names = []\n",
        "    values = []\n",
        "    for key, value in merch.items():\n",
        "        names.append(key)\n",
        "        values.append(value)\n",
        "\n",
        "    if edit_num > len(merch):\n",
        "        edit_num = len(merch)\n",
        "\n",
        "    for i in random.sample(range(0, len(merch)), edit_num):\n",
        "        while True:                                                             # ensures that we do not have negative or zero quantity\n",
        "            gen = random.randint(-merch_edit_amount, merch_edit_amount)\n",
        "            if gen + values[i] > 0:\n",
        "                merch[names[i]] = values[i] + gen\n",
        "                break"
      ]
    },
    {
      "cell_type": "code",
      "execution_count": 31,
      "metadata": {
        "id": "JgFDJu6DNtwE"
      },
      "outputs": [],
      "source": [
        "def del_random_items(merch, del_num):\n",
        "    names = list(merch.keys())\n",
        "\n",
        "    if del_num >= len(merch):\n",
        "        return\n",
        "    for i in random.sample(range(0, len(merch)-1), del_num):\n",
        "        del merch[names[i]]"
      ]
    },
    {
      "cell_type": "code",
      "execution_count": 32,
      "metadata": {
        "id": "4f-c-DPJNtwE"
      },
      "outputs": [],
      "source": [
        "def add_random_items(merch, add_num):    # does not add item already in the list\n",
        "    names = list(merch.keys())\n",
        "    i=0 \n",
        "    count= 0\n",
        "    permutation = random.sample(range(0, len(items)), len(items))\n",
        "\n",
        "    # Add item not already in the list \n",
        "    while i < add_num: \n",
        "        if not items[permutation[count]] in names:\n",
        "            merch[items[permutation[count]]]=random.randint(1,20)\n",
        "            i+=1 \n",
        "\n",
        "        count+= 1\n",
        "        if count == len(items):\n",
        "            return"
      ]
    },
    {
      "cell_type": "code",
      "execution_count": 33,
      "metadata": {
        "id": "oFHM13M7NtwF"
      },
      "outputs": [],
      "source": [
        "def add_random_trip(routes , merchs):                                       # Add random trip in the middle of the route\n",
        "    \n",
        "    permutation = random.sample(range(0, len(routes)-1), len(routes)-1)     # Random permutation to try add a trip\n",
        "    found = False\n",
        "    for k in permutation:\n",
        "        if k == 0:\n",
        "            add_random_route_to_front(routes, merchs)\n",
        "            return\n",
        "        elif k == len(routes)-1:\n",
        "            add_random_route_to_end(routes, merchs)\n",
        "            return\n",
        "\n",
        "        prev_city = routes[k-1]\n",
        "        next_city = routes[k]\n",
        "        common_neighbors = find_common_neigh(prev_city,next_city, neighbour_list)\n",
        "\n",
        "        if len(common_neighbors) != 0:\n",
        "            picked = random.choice(common_neighbors)\n",
        "            found = True\n",
        "            break\n",
        "\n",
        "    if not found:\n",
        "        print(\"No common neighbours\")\n",
        "        return\n",
        "    \n",
        "    routes.insert(k , picked)\n",
        "    merch_list = list(merchs)\n",
        "    for i in range(-1,1):\n",
        "        permutation = random.sample(range(0, len(items)), random.randint(min_num_items_per_trip if variable_item_size else num_items_per_trip ,max_num_items_per_trip if variable_item_size else num_items_per_trip))\n",
        "        food_list = {items[l]:random.randint(1,20) for l in permutation }\n",
        "        merch_list.insert(i+k , food_list)\n",
        "\n",
        "    merchs.clear()\n",
        "    for lists in merch_list:\n",
        "        merchs.append(lists)"
      ]
    },
    {
      "cell_type": "code",
      "execution_count": 34,
      "metadata": {
        "id": "NPdQCBnhNtwF"
      },
      "outputs": [],
      "source": [
        "def remove_front(routes , merchs):\n",
        "    del routes[0]\n",
        "    del merchs[0]"
      ]
    },
    {
      "cell_type": "code",
      "execution_count": 35,
      "metadata": {
        "id": "Zvv3PLvqNtwG"
      },
      "outputs": [],
      "source": [
        "def remove_end(routes , merchs):\n",
        "    del routes[len(routes)-1]\n",
        "    del merchs[len(merchs)-1]"
      ]
    },
    {
      "cell_type": "code",
      "execution_count": 36,
      "metadata": {
        "id": "UKB7OLDXNtwG"
      },
      "outputs": [],
      "source": [
        "def remove_trip_at(ind , routes , merchs):\n",
        "    prev_city = routes[ind-1]\n",
        "    next_city = routes[ind]\n",
        "    common_neighbors = find_common_neigh(prev_city,next_city, neighbour_list)\n",
        "\n",
        "    if len(common_neighbors) == 0:      # No common neighbours\n",
        "        return False\n",
        "    \n",
        "    picked = random.choice(common_neighbors)\n",
        "    \n",
        "    routes.insert(ind , picked)\n",
        "    merch_list = list(merchs)\n",
        "    for i in range(-1,1):\n",
        "        permutation = random.sample(range(0, len(items)), random.randint(min_num_items_per_trip if variable_item_size else num_items_per_trip ,max_num_items_per_trip if variable_item_size else num_items_per_trip))\n",
        "        food_list = {items[l]:random.randint(1,20) for l in permutation }\n",
        "        merch_list.insert(i+ind , food_list)\n",
        "\n",
        "    merchs.clear()\n",
        "    for lists in merch_list:\n",
        "        merchs.append(lists)\n",
        "    \n",
        "    return True"
      ]
    },
    {
      "cell_type": "code",
      "execution_count": 37,
      "metadata": {
        "id": "TmWcK2f6NtwG"
      },
      "outputs": [],
      "source": [
        "def remove_random_trip(routes , merchs): \n",
        "    if len(routes) < 3:\n",
        "        return \n",
        "    \n",
        "    permutation = random.sample(range(0, len(routes)-1), len(routes)-1)     # Random permutation to try add a trip\n",
        "\n",
        "    for k in permutation:\n",
        "        if k == 0:\n",
        "            remove_front(routes , merchs)\n",
        "        elif k == len(routes)-1:\n",
        "            remove_end(routes , merchs)\n",
        "        else:\n",
        "            if not remove_trip_at(k,routes , merchs ):\n",
        "                continue\n",
        "        return"
      ]
    },
    {
      "cell_type": "code",
      "execution_count": 38,
      "metadata": {
        "id": "0-V2eJpUNtwH"
      },
      "outputs": [],
      "source": [
        "def convert_to_JSON(JSON_list, id, routes, merchs):\n",
        "    city_to_city = []\n",
        "    for j in range(len(routes) - 1):\n",
        "        merchandise = []\n",
        "        for item, quantity in merchs[j].items():\n",
        "            merchandise.append({\"item\": item, \"quantity\": quantity})\n",
        "        city_to_city.append({\"from\": routes[j], \"to\": routes[j + 1], \"merchandise\": merchandise})\n",
        "\n",
        "    JSON_list.append({\"id\": id, \"route\": city_to_city})"
      ]
    },
    {
      "cell_type": "code",
      "execution_count": 39,
      "metadata": {
        "colab": {
          "base_uri": "https://localhost:8080/"
        },
        "id": "SYtT1d8GNtwI",
        "outputId": "07e62ed3-cf45-4982-f334-cf0950d4d083"
      },
      "outputs": [
        {
          "output_type": "stream",
          "name": "stdout",
          "text": [
            "Output file reached the target size!\n"
          ]
        }
      ],
      "source": [
        "with open(output_file, mode=\"w+\") as file:\n",
        "    file.write(\"[\")\n",
        "\n",
        "    new_id = 0\n",
        "    mean = 3\n",
        "    sd = 3\n",
        "\n",
        "    # Generate distribution of numbers\n",
        "    rand_list = np.random.normal(loc=mean, scale=sd, size=100)\n",
        "    rand_dist_list = []\n",
        "    # Convert numbers to positive int\n",
        "    for i in range(len(rand_list)):\n",
        "        rand_dist_list.append(int(abs(round(rand_list[i]))))\n",
        "\n",
        "    while os.path.getsize(output_file) < target_size:\n",
        "        picked = random.randint(0, len(Routes) - 1)  # Pick random route\n",
        "        routes = Routes[picked].copy()\n",
        "        merchs = Merchs[picked].copy()\n",
        "\n",
        "        num_remove_trip = rand_dist_list[random.randint(0, len(rand_dist_list) - 1)]\n",
        "        num_add_trip = rand_dist_list[random.randint(0, len(rand_dist_list) - 1)]\n",
        "\n",
        "        for i in range(num_add_trip):\n",
        "            add_random_trip(routes, merchs)\n",
        "\n",
        "        for i in range(num_remove_trip):\n",
        "            remove_random_trip(routes, merchs)\n",
        "\n",
        "        for j in range(len(merchs)):\n",
        "            num_remove_merch = rand_dist_list[random.randint(0, len(rand_dist_list) - 1)]\n",
        "            num_add_merch = rand_dist_list[random.randint(0, len(rand_dist_list) - 1)]\n",
        "            num_edit_merch = rand_dist_list[random.randint(0, len(rand_dist_list) - 1)]\n",
        "\n",
        "            del_random_items(merchs[j], num_remove_merch)\n",
        "            add_random_items(merchs[j], num_add_merch)\n",
        "            edit_random_items(merchs[j], num_edit_merch)\n",
        "\n",
        "        city_to_city = []\n",
        "        for j in range(len(routes) - 1):\n",
        "            merchandise = []\n",
        "            for item, quantity in merchs[j].items():\n",
        "                merchandise.append({\"food_type\": item, \"qty\": quantity})\n",
        "            city_to_city.append({\"from\": cities[routes[j]], \"to\": cities[routes[j + 1]], \"merchandise\": merchandise})\n",
        "\n",
        "        json_output = json.dumps({\"id\": new_id, \"route\": city_to_city}, indent=3, sort_keys=False)\n",
        "        file.write(json_output)\n",
        "        if os.path.getsize(output_file) < target_size:\n",
        "            file.write(\",\\n\")\n",
        "\n",
        "        new_id += 1\n",
        "\n",
        "    file.write(\"]\")\n",
        "\n",
        "print(\"Output file reached the target size!\")"
      ]
    }
  ],
  "metadata": {
    "colab": {
      "provenance": []
    },
    "kernelspec": {
      "display_name": "base",
      "language": "python",
      "name": "python3"
    },
    "language_info": {
      "codemirror_mode": {
        "name": "ipython",
        "version": 3
      },
      "file_extension": ".py",
      "mimetype": "text/x-python",
      "name": "python",
      "nbconvert_exporter": "python",
      "pygments_lexer": "ipython3",
      "version": "3.9.7"
    },
    "orig_nbformat": 4
  },
  "nbformat": 4,
  "nbformat_minor": 0
}